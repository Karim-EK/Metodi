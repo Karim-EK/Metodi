{
 "cells": [
  {
   "cell_type": "markdown",
   "id": "bf169812-94dc-4b34-83ff-c84a3e29571a",
   "metadata": {},
   "source": [
    "## Esercitazione 6 - 25 Marzo 2024"
   ]
  },
  {
   "cell_type": "markdown",
   "id": "6776a84b-7a0a-4001-bb1c-2316249e1bb4",
   "metadata": {},
   "source": [
    "Scrivere le funzioni python `bisezione.py`, `falsi.py`,  che implementino rispettivamente il metodo di bisezione, di falsa posizione, delle corde, delle secanti e di Newton.\n",
    "\n",
    "Le funzioni `bisezione.py`, `falsi.py` devono assumere come input:\n",
    "\n",
    "-  gli estremi dell'intervallo [a,b], dominio di f.\n",
    "-  il nome `fname` della funzione di cui calcolare lo zero\n",
    "-  tolx: tolleranza per il testi di arresto per l'errore relativo tra due iterati successivi\n",
    "-  tolf: tolleranza per il test di arresto sul valore della funzione\n",
    "-  nmax= numero massimo di iterazioni\n",
    "    \n",
    "In output:\n",
    "-      lo zero della funzione\n",
    "-      il numero di iterazioni effettuate\n",
    "-      una lista contenente tutti gli iterati xk\n",
    "\n"
   ]
  },
  {
   "cell_type": "markdown",
   "id": "20bbe42c-264f-40aa-887c-1505be3c0d50",
   "metadata": {},
   "source": [
    "**Sperimentazione numerica**"
   ]
  },
  {
   "cell_type": "code",
   "execution_count": 1,
   "id": "70c5b256-4e33-4b40-98f6-2dcc110f021c",
   "metadata": {},
   "outputs": [],
   "source": [
    "import math\n",
    "import numpy as np\n",
    "import matplotlib.pyplot as plt\n",
    "import numpy.linalg as npl"
   ]
  },
  {
   "cell_type": "markdown",
   "id": "22339d84-a5cc-4950-a537-104611a315f8",
   "metadata": {},
   "source": [
    "## Esercizio 1 \n",
    "\n",
    " Confrontare i metodi sopra implementati nei casi seguenti:\n",
    "- f(x) = $x^3-6x^2-4x+24$ in [-3,8], tolx = 1.e − 12, tolf = 1.e − 12, (soluzione esatta alfa=-2,2,6);\n",
    "- f(x) = exp(−x) − (x + 1) in [−1, 2]  tolx = 1.e − 12, tolf = 1.e − 12, (soluzione esatta alfa=0);\n",
    "- f(x) = log2(x + 3) − 2 in [−1, 2]  tolx = 1.e − 12, tolf = 1.e − 12, (soluzione esatta alfa=1);\n",
    "- f(x) =sqrt(x)-(x^2)/4 in [1, 3]  tolx = 1.e − 12, tolf =1.e − 12, (soluzione esatta alfa=2**(4/3))\n",
    "\n",
    "Mostrare in un grafico in scala semilogaritmica sulle ordinate (comando semilogy) l’andamento di ek = |xk − α|, k = 1, ..., nit, sapendo che α = 0, 1, 2**(4/3) nei casi 2-4.\n"
   ]
  },
  {
   "cell_type": "code",
   "execution_count": 2,
   "id": "ce7a9f11-6899-40f7-a042-3d9f8cf30fc0",
   "metadata": {},
   "outputs": [],
   "source": [
    "def sign(x):\n",
    "    return math.copysign(1,x)"
   ]
  },
  {
   "cell_type": "code",
   "execution_count": 3,
   "id": "f1eae83e-53fb-4419-bdc1-6be6a6bbbe3e",
   "metadata": {
    "editable": true,
    "slideshow": {
     "slide_type": ""
    },
    "tags": []
   },
   "outputs": [],
   "source": [
    "def metodo_bisezione(fname, a, b, tolx):\n",
    "    fa = fname(a)\n",
    "    fb = fname(b)\n",
    "    if fa * fb >= 0:\n",
    "        print(\"Metodo bisezione non applicabile\")\n",
    "        return None, None, None\n",
    "    it = 0\n",
    "    v_xk = []\n",
    "    while abs(a - b) > tolx:\n",
    "        xk = a + (b - a) / 2  # centro\n",
    "        v_xk.append(xk)\n",
    "        it += 1\n",
    "        fxk = fname(xk)\n",
    "        if fxk == 0:  # se centro = 0\n",
    "            return xk, it, v_xk\n",
    "        if fa * fxk < 0:  # 0 si trova in [a, xk]\n",
    "            b = xk\n",
    "            fb = fxk\n",
    "        else:  # 0 si trova in [xk, b]\n",
    "            a = xk\n",
    "            fa = fxk\n",
    "    return xk, it, v_xk  # ritorna solo una volta al termine del ciclo\n"
   ]
  },
  {
   "cell_type": "code",
   "execution_count": 4,
   "id": "21cac8e8-1927-4968-8639-07610592eed9",
   "metadata": {},
   "outputs": [],
   "source": [
    "def metodo_regula_falsi(fname, a, b, tolx):\n",
    "    fa = fname(a)\n",
    "    fb = fname(b)\n",
    "    if fa * fb >= 0:\n",
    "        print(\"Metodo bisezione non applicabile\")\n",
    "        return None, None, None\n",
    "    it = 0\n",
    "    v_xk = []\n",
    "    while abs(a - b) > tolx:\n",
    "        xk = a - f(a) * ((a - b) / (f(b) - f(a)))\n",
    "        v_xk.append(xk)\n",
    "        it += 1\n",
    "        fxk = fname(xk)\n",
    "        if fxk == 0:  # se centro = 0\n",
    "            return xk, it, v_xk\n",
    "        if fa * fxk < 0:  # 0 si trova in [a, xk]\n",
    "            b = xk\n",
    "            fb = fxk\n",
    "        else:  # 0 si trova in [xk, b]\n",
    "            a = xk\n",
    "            fa = fxk\n",
    "    return xk, it, v_xk  # ritorna solo una volta al termine del ciclo\n"
   ]
  },
  {
   "cell_type": "code",
   "execution_count": null,
   "id": "edfd721b-5baf-4b92-bc62-0a93acbe5689",
   "metadata": {},
   "outputs": [],
   "source": [
    "def metodo_regula_falsi_extended_notWorkinig(fname, a, b, tolx, xprec):\n",
    "    fa = fname(a)\n",
    "    fb = fname(b)\n",
    "    if fa * fb >= 0:\n",
    "        print(\"Metodo regula falsi non applicabile\")\n",
    "        return None, None, None\n",
    "    it = 0\n",
    "    v_xk = []\n",
    "    fx = 100\n",
    "    errore = 100\n",
    "    xprec = a\n",
    "    while abs(a - b) > tolx and abs(fxk) > tolf and errore > tolx:\n",
    "        xk = a - f(a) * ((a - b) / (f(b) - f(a))) # centro\n",
    "        v_xk.append(xk)\n",
    "        it += 1\n",
    "        fxk = fname(xk)\n",
    "        if fxk == 0:  # se centro = 0\n",
    "            return xk, it, v_xk\n",
    "        if fa * fxk < 0:  # 0 si trova in [a, xk]\n",
    "            b = xk\n",
    "            fb = fxk\n",
    "        else:  # 0 si trova in [xk, b]\n",
    "            a = xk\n",
    "            fa = fxk\n",
    "        if xk != 0:\n",
    "            errore = abs(xk - xprec) / abs (xk)\n",
    "        else:\n",
    "            errore = abs(xk - xprec)\n",
    "        xprec = xk\n",
    "    return xk, it, v_xk  # ritorna solo una volta al termine del ciclo"
   ]
  },
  {
   "cell_type": "code",
   "execution_count": 5,
   "id": "47001b0f-0bbb-4989-9037-548891c36460",
   "metadata": {},
   "outputs": [
    {
     "data": {
      "text/plain": [
       "[<matplotlib.lines.Line2D at 0x1fc60ac1bb0>,\n",
       " <matplotlib.lines.Line2D at 0x1fc60ac1af0>]"
      ]
     },
     "execution_count": 5,
     "metadata": {},
     "output_type": "execute_result"
    },
    {
     "data": {
      "image/png": "[encoded data removed]",
      "text/plain": [
       "<Figure size 640x480 with 1 Axes>"
      ]
     },
     "metadata": {},
     "output_type": "display_data"
    }
   ],
   "source": [
    "a = -3.0\n",
    "b = 8.0\n",
    "x = np.linspace(a, b, 100)\n",
    "f = lambda x: x**3 - 6*x**2 - 4*x + 24\n",
    "plt.plot(x, f(x), x, np.zeros_like(x))"
   ]
  },
  {
   "cell_type": "code",
   "execution_count": 7,
   "id": "a392c99c-9d0c-41bb-a0af-efb0723e6bf8",
   "metadata": {},
   "outputs": [
    {
     "name": "stdout",
     "output_type": "stream",
     "text": [
      "zero bisezione -2.0000000000002274 iterazioni = 42\n",
      "[5.00000000e-01 2.50000000e-01 1.25000000e-01 6.25000000e-02\n",
      " 3.12500000e-02 1.56250000e-02 7.81250000e-03 3.90625000e-03\n",
      " 1.95312500e-03 9.76562500e-04 4.88281250e-04 2.44140625e-04\n",
      " 1.22070312e-04 6.10351562e-05 3.05175781e-05 1.52587891e-05\n",
      " 7.62939453e-06 3.81469727e-06 1.90734863e-06 9.53674316e-07\n",
      " 4.76837158e-07 2.38418579e-07 1.19209290e-07 5.96046448e-08\n",
      " 2.98023224e-08 1.49011612e-08 7.45058060e-09 3.72529030e-09\n",
      " 1.86264515e-09 9.31322575e-10 4.65661287e-10 2.32830644e-10\n",
      " 1.16415322e-10 5.82076609e-11 2.91038305e-11 1.45519152e-11\n",
      " 7.27595761e-12 3.63797881e-12 1.81898940e-12 9.09494702e-13\n",
      " 4.54747351e-13 2.27373675e-13]\n"
     ]
    },
    {
     "data": {
      "image/png": "[encoded data removed]",
      "text/plain": [
       "<Figure size 640x480 with 1 Axes>"
      ]
     },
     "metadata": {},
     "output_type": "display_data"
    }
   ],
   "source": [
    "a1 = -3.0\n",
    "b1 = 0.0\n",
    "tolx = 1.0e-12\n",
    "xk, it, v_xk = metodo_bisezione(f, a1, b1, tolx)\n",
    "print(\"zero bisezione\",xk , \"iterazioni =\", it)\n",
    "alpha = -2\n",
    "ek = np.abs(np.array(v_xk) - alpha)\n",
    "plt.semilogy(np.arange(it), ek, 'ro')\n",
    "print(ek)"
   ]
  },
  {
   "cell_type": "markdown",
   "id": "d9787fdd-725e-4803-b148-8a137e4335c8",
   "metadata": {},
   "source": [
    "## Esercizio 2\n",
    "\n",
    "- Utilizzare il metodo di bisezione per calcolare la radice quadrata di 2. Analizzate i risultati."
   ]
  },
  {
   "cell_type": "code",
   "execution_count": 10,
   "id": "7f224028-8cee-4740-af89-e5410784e874",
   "metadata": {},
   "outputs": [
    {
     "data": {
      "text/plain": [
       "[<matplotlib.lines.Line2D at 0x1fc6319f980>,\n",
       " <matplotlib.lines.Line2D at 0x1fc6319f9b0>]"
      ]
     },
     "execution_count": 10,
     "metadata": {},
     "output_type": "execute_result"
    },
    {
     "data": {
      "image/png": "[encoded data removed]",
      "text/plain": [
       "<Figure size 640x480 with 1 Axes>"
      ]
     },
     "metadata": {},
     "output_type": "display_data"
    }
   ],
   "source": [
    "a = 0.0\n",
    "b = 6.0\n",
    "x = np.linspace(a, b, 100)\n",
    "f = lambda x: x - np.sqrt(2) \n",
    "plt.plot(x, f(x), x, np.zeros_like(x))"
   ]
  },
  {
   "cell_type": "code",
   "execution_count": null,
   "id": "0c1c9fea-42f1-4d63-832a-4c87e61e3ed3",
   "metadata": {},
   "outputs": [],
   "source": [
    "metodo_regula_falsi(fname, a, b, tolx)"
   ]
  },
  {
   "cell_type": "markdown",
   "id": "b83adaa1-7bed-4e12-9c11-4b0cd149a541",
   "metadata": {},
   "source": [
    "## Esercizio 3\n",
    "Scrivere una funzione numpy che calcola la norma infinito e la norma 1 di un vettore ed una matrice  e testarla su vettori e matrici  a propria scelta. Confrontarne i risultati con quelli ottenuti utilizzando la funzione norm di numpy.linalg\n",
    "\n",
    "(Ricorda la formula della norma infinito e della norma 1 di una matrice\n",
    "$||A||_\\infty= \\max_{j=1,n} \\sum_{i} |a_{ij}| $\n",
    "$\\quad ||A||_1= \\max_{i=1,n} \\sum_{j} |a_{ij}| $)"
   ]
  },
  {
   "cell_type": "code",
   "execution_count": 11,
   "id": "19e0c900-a13d-4eb0-adca-40715b70a9a3",
   "metadata": {},
   "outputs": [],
   "source": [
    "def norma1(B):\n",
    "    somme_col = np.sum(np.abs(B), axis = 0)\n",
    "    n1 = np.max(somme_col)\n",
    "    return n1"
   ]
  },
  {
   "cell_type": "code",
   "execution_count": 14,
   "id": "23c6e904-ad29-446e-9147-64ba95f9584b",
   "metadata": {},
   "outputs": [
    {
     "name": "stdout",
     "output_type": "stream",
     "text": [
      "[[ 2 -3  5]\n",
      " [-6  3 -4]\n",
      " [ 7  8  9]]\n",
      "18\n"
     ]
    }
   ],
   "source": [
    "A = np.array([[2, -3, 5], [-6,3,-4], [7,8,9]])\n",
    "print(A)\n",
    "n1 = norma1(A)\n",
    "print(n1)"
   ]
  },
  {
   "cell_type": "markdown",
   "id": "1529f44f-dd62-4109-b9da-edd840811f55",
   "metadata": {},
   "source": [
    "## Esercizio 4\n",
    "Implementare una funzione che calcola la norma 2 di una  matrice facendo uso della funzione eigvals del pacchetto numpy.linalg, (np.linalg.eigvals(A)). Testarla sulla matrice A=np.array([[4,-1,6],[2,3,-3],[1,-2,9/2]])   e confrontarne i risultati con quelli ottenuti utilizzando la funzione norm di numpy.linalg"
   ]
  },
  {
   "cell_type": "code",
   "execution_count": null,
   "id": "51cd63ee-fe65-415f-811c-90646a08b5a4",
   "metadata": {},
   "outputs": [],
   "source": []
  }
 ],
 "metadata": {
  "kernelspec": {
   "display_name": "Python 3 (ipykernel)",
   "language": "python",
   "name": "python3"
  },
  "language_info": {
   "codemirror_mode": {
    "name": "ipython",
    "version": 3
   },
   "file_extension": ".py",
   "mimetype": "text/x-python",
   "name": "python",
   "nbconvert_exporter": "python",
   "pygments_lexer": "ipython3",
   "version": "3.12.4"
  }
 },
 "nbformat": 4,
 "nbformat_minor": 5
}
