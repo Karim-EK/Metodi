{
  "cells": [
    {
      "cell_type": "markdown",
      "metadata": {
        "id": "view-in-github",
        "colab_type": "text"
      },
      "source": [
        "<a href=\"https://colab.research.google.com/github/Karim-EK/Metodi/blob/master/Esercitazione3.ipynb\" target=\"_parent\"><img src=\"https://colab.research.google.com/assets/colab-badge.svg\" alt=\"Open In Colab\"/></a>"
      ]
    },
    {
      "cell_type": "markdown",
      "id": "2f16cd51-b728-47c0-b39e-f22777b738f3",
      "metadata": {
        "id": "2f16cd51-b728-47c0-b39e-f22777b738f3"
      },
      "source": [
        "# Esercitazione 4 Marzo 2025"
      ]
    },
    {
      "cell_type": "code",
      "source": [
        "import numpy as np\n",
        "import matplotlib.pyplot as plt\n",
        "import time"
      ],
      "metadata": {
        "id": "W51dHoi3OkVv"
      },
      "id": "W51dHoi3OkVv",
      "execution_count": 24,
      "outputs": []
    },
    {
      "cell_type": "markdown",
      "id": "cea7be83-908f-4132-b3df-6eb9633855a9",
      "metadata": {
        "id": "cea7be83-908f-4132-b3df-6eb9633855a9"
      },
      "source": [
        "## Esercizio 1\n",
        "- Costruire due array numpy-array 2d di dimensione 5000x5000 i cui valori sono campionati da una distribuzione gaussiana con media 0 e varianza 1.\n",
        "- Effetuare la somma tra le due matrici con due metodi:\n",
        "\n",
        "        -  utilizzando le operazioni vettoriali\n",
        "        -  considerando due cicli espliciti annidati, su righe e colonne\n",
        "- Confrontare le prestazioni in termini di tempo di esecuzione.\n",
        "        \n"
      ]
    },
    {
      "cell_type": "code",
      "source": [
        "matrix1 = np.random.randn(25_000_000)\n",
        "matrix1= matrix1.reshape(5000, 5000)\n",
        "\n",
        "matrix2 = np.random.randn(25_000_000)\n",
        "matrix2= matrix2.reshape(5000, 5000)\n",
        "\n",
        "start = time.perf_counter()\n",
        "matrix3 = matrix1 + matrix2\n",
        "matrix4 = np.zeros_like(matrix3)\n",
        "print(time.perf_counter() - start)\n",
        "\n",
        "start = time.perf_counter()\n",
        "for i in range(5000):\n",
        "  for j in range(5000):\n",
        "    matrix4[i,j] = matrix1[i,j] + matrix2[i,j]\n",
        "print(time.perf_counter() - start)\n",
        "\n",
        "print(matrix3.shape)\n",
        "print(matrix4.shape)"
      ],
      "metadata": {
        "colab": {
          "base_uri": "https://localhost:8080/"
        },
        "id": "GUuKQrJ-OY2Q",
        "outputId": "12534340-d896-4e27-80e7-b600b4f5c06f"
      },
      "id": "GUuKQrJ-OY2Q",
      "execution_count": 25,
      "outputs": [
        {
          "output_type": "stream",
          "name": "stdout",
          "text": [
            "0.1425323619998835\n",
            "17.84835025999996\n",
            "(5000, 5000)\n",
            "(5000, 5000)\n"
          ]
        }
      ]
    },
    {
      "cell_type": "markdown",
      "id": "2cc104af-5376-4b18-9945-9316885a30ed",
      "metadata": {
        "id": "2cc104af-5376-4b18-9945-9316885a30ed"
      },
      "source": [
        "## Esercizio 2\n",
        "-      Costruire il numpy array  s  formato da 40 valori equidistanti in  [0,20],\n",
        "-      considerarne il reshape in un array 2d che ha 4 righe con un numero opportuno di colonne e dire se il reshape crea una vista o una copia"
      ]
    },
    {
      "cell_type": "code",
      "source": [
        "s = np.linspace(0,20,40)\n",
        "s = s.reshape(4,10)\n",
        "print(s.shape)"
      ],
      "metadata": {
        "colab": {
          "base_uri": "https://localhost:8080/"
        },
        "id": "5Yjd7UPCSYyM",
        "outputId": "64ac50c7-a1a7-4c74-d810-cb1126daedcc"
      },
      "id": "5Yjd7UPCSYyM",
      "execution_count": 26,
      "outputs": [
        {
          "output_type": "stream",
          "name": "stdout",
          "text": [
            "(4, 10)\n"
          ]
        }
      ]
    },
    {
      "cell_type": "markdown",
      "id": "8984c411-28fa-4590-9942-3d6d5bc5c665",
      "metadata": {
        "id": "8984c411-28fa-4590-9942-3d6d5bc5c665"
      },
      "source": [
        "## Esercizio 3\n",
        "-     Costruire il numpy array t formato da 100 valori equidistanti in  [0,4]\n",
        "-     considerarne il reshape in un array 2d che ha 4 colonne con un numero opportuno di righe"
      ]
    },
    {
      "cell_type": "code",
      "source": [
        "t = np.linspace(0,4,100)\n",
        "t = t.reshape(25,4)\n",
        "print(t.shape)"
      ],
      "metadata": {
        "colab": {
          "base_uri": "https://localhost:8080/"
        },
        "id": "h7j2IOG8SpxN",
        "outputId": "5119a60c-5186-4661-fced-7c0d1176845e"
      },
      "id": "h7j2IOG8SpxN",
      "execution_count": 27,
      "outputs": [
        {
          "output_type": "stream",
          "name": "stdout",
          "text": [
            "(25, 4)\n"
          ]
        }
      ]
    },
    {
      "cell_type": "markdown",
      "id": "497ccc48-1ab8-4247-8e36-0c61e43c643c",
      "metadata": {
        "id": "497ccc48-1ab8-4247-8e36-0c61e43c643c"
      },
      "source": [
        "## Esercizio 4\n",
        "Costruire il numpy array 1d C  di valori che variano tra 15 e 41 con step 2\n",
        "\n",
        "-     Trasformarlo in un numpy array 2d con shape(7,2) usando il metodo . resize(7,2)  che lavora in-place,  (cioè  modifica l'array esistente).  "
      ]
    },
    {
      "cell_type": "code",
      "source": [
        "c = np.arange(15,41,2)\n",
        "c.resize(7,2)\n",
        "print(c.shape)"
      ],
      "metadata": {
        "colab": {
          "base_uri": "https://localhost:8080/"
        },
        "id": "L_K0iKGCS7Ho",
        "outputId": "d596a260-3250-4332-abf1-6d0906a1349e"
      },
      "id": "L_K0iKGCS7Ho",
      "execution_count": 30,
      "outputs": [
        {
          "output_type": "stream",
          "name": "stdout",
          "text": [
            "(7, 2)\n"
          ]
        }
      ]
    },
    {
      "cell_type": "markdown",
      "id": "222a582d-184b-47b9-804b-72673a42102e",
      "metadata": {
        "id": "222a582d-184b-47b9-804b-72673a42102e"
      },
      "source": [
        " ## Esercizio 5\n",
        " Creare un array NumPy di 10 numeri interi casuali tra 1 e 100.\n",
        ""
      ]
    },
    {
      "cell_type": "code",
      "source": [
        "rand = np.random.randint(1,100,10)\n",
        "print(rand)"
      ],
      "metadata": {
        "colab": {
          "base_uri": "https://localhost:8080/"
        },
        "id": "O4EP9yNwTeJ1",
        "outputId": "d961c81b-5781-425b-f718-3c7cb06a55e1"
      },
      "id": "O4EP9yNwTeJ1",
      "execution_count": 31,
      "outputs": [
        {
          "output_type": "stream",
          "name": "stdout",
          "text": [
            "[48 28 72 38 86 82 41 79 86 15]\n"
          ]
        }
      ]
    },
    {
      "cell_type": "markdown",
      "id": "26b0aef0-fa88-4ec5-923f-8fa9d0664044",
      "metadata": {
        "id": "26b0aef0-fa88-4ec5-923f-8fa9d0664044"
      },
      "source": [
        " ## Esercizio 6\n",
        " Eseguire uno shuffle degli elementi di un numpy-array di 30 numeri interi casuali tra 100 e 200.\n"
      ]
    },
    {
      "cell_type": "code",
      "source": [
        "rand = np.random.randint(100,200,30)\n",
        "print(rand)\n",
        "np.random.shuffle(rand)\n",
        "print(rand)"
      ],
      "metadata": {
        "colab": {
          "base_uri": "https://localhost:8080/"
        },
        "id": "RKS281BqTmv1",
        "outputId": "554d77be-df23-49eb-efbd-b054baaccf3e"
      },
      "id": "RKS281BqTmv1",
      "execution_count": 33,
      "outputs": [
        {
          "output_type": "stream",
          "name": "stdout",
          "text": [
            "[152 180 163 113 119 168 127 138 121 159 187 128 194 118 102 125 157 174\n",
            " 127 106 139 194 193 114 126 101 141 128 194 153]\n",
            "[163 153 139 101 113 121 119 125 159 127 128 168 180 141 126 194 127 128\n",
            " 138 114 187 174 193 194 102 106 194 157 152 118]\n"
          ]
        }
      ]
    },
    {
      "cell_type": "markdown",
      "id": "9e1c800f-6ae8-41cc-94c0-c36445e2ea55",
      "metadata": {
        "id": "9e1c800f-6ae8-41cc-94c0-c36445e2ea55"
      },
      "source": [
        "  ## Esercizio 7\n",
        " Creare una permutazione casuale degli elementi di un numpy-array di 20 valori campionati da una distribuzione  gaussiana con media zero e varianza 1, senza modificarlo."
      ]
    },
    {
      "cell_type": "code",
      "source": [
        "rand = np.random.randn(20)\n",
        "np.random.permutation(rand)"
      ],
      "metadata": {
        "colab": {
          "base_uri": "https://localhost:8080/"
        },
        "id": "rfTeYI13UVzI",
        "outputId": "e32254ff-f695-4fdc-cf54-ac4017600182"
      },
      "id": "rfTeYI13UVzI",
      "execution_count": 34,
      "outputs": [
        {
          "output_type": "execute_result",
          "data": {
            "text/plain": [
              "array([ 0.24769379,  1.07600986, -1.18367344, -0.82584863,  0.24966375,\n",
              "        0.70354386,  0.5538414 ,  1.48884832, -0.62530073,  0.37008667,\n",
              "       -0.43163342,  0.36217457,  0.22433007,  0.57228812,  0.72967098,\n",
              "       -0.238529  , -0.06537208,  1.38751242, -0.19780486, -0.57112941])"
            ]
          },
          "metadata": {},
          "execution_count": 34
        }
      ]
    },
    {
      "cell_type": "markdown",
      "id": "14fa94ab-ffd5-425a-8a18-f1b6d53bc87b",
      "metadata": {
        "id": "14fa94ab-ffd5-425a-8a18-f1b6d53bc87b"
      },
      "source": [
        " ## Esercizio 8\n",
        "-     Scrivere il numpy  array 2d, A, [[10,11,12],[13,14,15],[16,17,18]]\n",
        "-     trasformarlo in un numpy array 1d usando il metodo .ravel()  \n",
        "-     Si tratta di una copia o di una vista?"
      ]
    },
    {
      "cell_type": "code",
      "source": [
        "arr = np.array([[10,11,12],[13,14,15],[16,17,18]])\n",
        "print(arr.shape)\n",
        "arr = arr.ravel()\n",
        "print(arr.shape)"
      ],
      "metadata": {
        "colab": {
          "base_uri": "https://localhost:8080/"
        },
        "id": "cantUsIZUnYX",
        "outputId": "22f6b4df-1cc3-4dce-dc28-09159741a0ff"
      },
      "id": "cantUsIZUnYX",
      "execution_count": 37,
      "outputs": [
        {
          "output_type": "stream",
          "name": "stdout",
          "text": [
            "(3, 3)\n",
            "(9,)\n"
          ]
        }
      ]
    },
    {
      "cell_type": "markdown",
      "id": "8cef420c-3ee7-487a-b872-83c1460e11fe",
      "metadata": {
        "id": "8cef420c-3ee7-487a-b872-83c1460e11fe"
      },
      "source": [
        "## Esercizio 9\n",
        "-     Scrivere il numpy  array 2d, A, [[10,11,12],[13,14,15],[16,17,18]]\n",
        "-     trasformarlo in un numpy array 1d usando il metodo  .flatten().\n",
        "-     Si tratta di una copia o di una vista?"
      ]
    },
    {
      "cell_type": "code",
      "source": [
        "arr = np.array([[10,11,12],[13,14,15],[16,17,18]])\n",
        "arr = arr.flatten()\n",
        "print(arr.shape)"
      ],
      "metadata": {
        "colab": {
          "base_uri": "https://localhost:8080/"
        },
        "id": "8ZFGN4ZDVSxZ",
        "outputId": "5688ac2f-c285-4e76-8804-74a12b78580a"
      },
      "id": "8ZFGN4ZDVSxZ",
      "execution_count": 41,
      "outputs": [
        {
          "output_type": "stream",
          "name": "stdout",
          "text": [
            "(9,)\n"
          ]
        }
      ]
    },
    {
      "cell_type": "markdown",
      "id": "a0b881a4-1836-4e2a-83aa-e03f4398feb5",
      "metadata": {
        "id": "a0b881a4-1836-4e2a-83aa-e03f4398feb5"
      },
      "source": [
        " ## Esercizio 10\n",
        "-     creare i due  numpy array 1d\n",
        "        f1= [ 0  1  2  3  4  5  6  7  8  9 10 11 12 13 14 15]  \n",
        "        f2= [16 17 18 19 20 21 22 23 24 25 26 27 28 29 30 31]\n",
        "-     \"vederli\" come matrici  4x4 ed effettuarne il prodotto scalare, memorizzando in f3 la matrice che nasce dal loro prodotto."
      ]
    },
    {
      "cell_type": "code",
      "source": [
        "f1 = np.array([ 0, 1, 2, 3, 4, 5, 6, 7, 8, 9, 10, 11, 12, 13, 14, 15])\n",
        "f2 = np.array([ 16, 17, 18, 19, 20, 21,22, 23, 24, 25, 26, 27, 28, 29, 30, 31])\n",
        "\n",
        "f1 = f1.reshape(4,4)\n",
        "f2 = f2.reshape(4,4)\n",
        "\n",
        "f3 = f1 @ f2\n",
        "\n",
        "print(f3)\n",
        "print(f3.shape)"
      ],
      "metadata": {
        "colab": {
          "base_uri": "https://localhost:8080/"
        },
        "id": "j80akwSKVl0z",
        "outputId": "da8e5464-1886-4696-cd94-a20734a81777"
      },
      "id": "j80akwSKVl0z",
      "execution_count": 42,
      "outputs": [
        {
          "output_type": "stream",
          "name": "stdout",
          "text": [
            "[[ 152  158  164  170]\n",
            " [ 504  526  548  570]\n",
            " [ 856  894  932  970]\n",
            " [1208 1262 1316 1370]]\n",
            "(4, 4)\n"
          ]
        }
      ]
    },
    {
      "cell_type": "markdown",
      "id": "681aca16-584c-451f-b9da-cba4b11faa5e",
      "metadata": {
        "id": "681aca16-584c-451f-b9da-cba4b11faa5e"
      },
      "source": [
        "## Esercizio 11\n",
        "Costruire:\n",
        " -     Numpy Array A di shape (2,10) : array di valori random campionati da una distribuzione gaussiana con media 0 e varianza 1.\n",
        " -     Numpy array 1D B di shape (20,) formato dagli interi da 0 a 19.\n",
        "\n",
        " \"Vedere\" A come un array 1D di 20 elementi ed effettuare la somma di A+B\n"
      ]
    },
    {
      "cell_type": "code",
      "source": [
        "A = np.random.randn(20)\n",
        "A.resize(2,10)\n",
        "B = np.random.randint(0,19)\n",
        "\n",
        "A = A.flatten()\n",
        "\n",
        "C = A + B\n",
        "print(C)"
      ],
      "metadata": {
        "colab": {
          "base_uri": "https://localhost:8080/"
        },
        "id": "ff-umwm6WdTU",
        "outputId": "ee687a14-97d4-49b1-a221-b00556d2b02a"
      },
      "id": "ff-umwm6WdTU",
      "execution_count": 43,
      "outputs": [
        {
          "output_type": "stream",
          "name": "stdout",
          "text": [
            "[-1.67950559  3.44691458  2.18372215  2.66072729  1.07868906 -0.81002814\n",
            "  1.0664491   0.95845222  2.60495401  2.56867206  0.97068956 -0.49974869\n",
            "  0.47427986  1.22990005 -1.47366981  2.38421652  1.54503646  0.76928521\n",
            "  1.59737158 -1.15023009]\n"
          ]
        }
      ]
    },
    {
      "cell_type": "markdown",
      "id": "020920a7-7554-4815-b6a6-c9579d0b566c",
      "metadata": {
        "id": "020920a7-7554-4815-b6a6-c9579d0b566c"
      },
      "source": [
        "## Esercizio 12\n",
        "-     Costruire f, un numpy array 1D , di shape (10,) costituito da 10 valori equidistanti nell'intervallo [0,1]\n",
        "-     aumentarne la dimensionalità, in maniera tale che abbia shape (10,1)"
      ]
    },
    {
      "cell_type": "code",
      "source": [
        "f = np.random.rand(10)\n",
        "f = f.reshape(10,1)\n",
        "\n",
        "f.shape"
      ],
      "metadata": {
        "colab": {
          "base_uri": "https://localhost:8080/"
        },
        "id": "mZpEscWgW-bo",
        "outputId": "71fb5269-9890-41ec-c0b8-763a5551f824"
      },
      "id": "mZpEscWgW-bo",
      "execution_count": 45,
      "outputs": [
        {
          "output_type": "execute_result",
          "data": {
            "text/plain": [
              "(10, 1)"
            ]
          },
          "metadata": {},
          "execution_count": 45
        }
      ]
    },
    {
      "cell_type": "markdown",
      "id": "610f98b2-3f2b-46e0-8a51-ac682a7b46a3",
      "metadata": {
        "id": "610f98b2-3f2b-46e0-8a51-ac682a7b46a3"
      },
      "source": [
        "## Esercizio 13\n",
        "-     Costruire i seguenti numpy array\n",
        "      a= np.array([14,13,12,11])\n",
        "      b=np.array([[4,3,2,1],[9,10,11,12]])\n",
        "\n",
        "  Costruire il numpy array che si ottiene concatenando a e b per righe"
      ]
    },
    {
      "cell_type": "code",
      "source": [
        "a = np.array([14,13,12,11])\n",
        "b = np.array([[4,3,2,1],[9,10,11,12]])\n",
        "c = np.concatenate((a.reshape(1,4),b), axis = 0)\n",
        "print(c)"
      ],
      "metadata": {
        "colab": {
          "base_uri": "https://localhost:8080/"
        },
        "id": "IHCw0PjyXOEO",
        "outputId": "2bacf366-2c0e-43c9-f64b-b4953789ff7c"
      },
      "id": "IHCw0PjyXOEO",
      "execution_count": 52,
      "outputs": [
        {
          "output_type": "stream",
          "name": "stdout",
          "text": [
            "[[14 13 12 11]\n",
            " [ 4  3  2  1]\n",
            " [ 9 10 11 12]]\n"
          ]
        }
      ]
    },
    {
      "cell_type": "markdown",
      "id": "51740675-7696-4803-9506-e593431e8a27",
      "metadata": {
        "id": "51740675-7696-4803-9506-e593431e8a27"
      },
      "source": [
        "## Esercizio 14\n",
        "-     Costruire i seguenti numpy array\n",
        "      a= np.array([14,13,12,11])\n",
        "      b=np.array([[4,3,2,1],[9,10,11,12],[4,3,2,1],[9,10,11,12]])\n",
        "\n",
        "-\n",
        "- Costruire il numpy array che si ottiene concatenando a e b per colonne"
      ]
    },
    {
      "cell_type": "code",
      "source": [
        "a= np.array([14,13,12,11])\n",
        "b=np.array([[4,3,2,1],[9,10,11,12],[4,3,2,1],[9,10,11,12]])\n",
        "c = np.concatenate((a.reshape(4,1), b), axis = 1)\n",
        "print(c)"
      ],
      "metadata": {
        "colab": {
          "base_uri": "https://localhost:8080/"
        },
        "id": "WTnWKmJaasjq",
        "outputId": "43668d1c-73df-4fa8-ceed-4543027f042e"
      },
      "id": "WTnWKmJaasjq",
      "execution_count": 54,
      "outputs": [
        {
          "output_type": "stream",
          "name": "stdout",
          "text": [
            "[[14  4  3  2  1]\n",
            " [13  9 10 11 12]\n",
            " [12  4  3  2  1]\n",
            " [11  9 10 11 12]]\n"
          ]
        }
      ]
    },
    {
      "cell_type": "markdown",
      "id": "0cd10bd7-8d9e-4e99-827e-83cf83393782",
      "metadata": {
        "id": "0cd10bd7-8d9e-4e99-827e-83cf83393782"
      },
      "source": [
        "## Esercizio 15\n",
        "Costruire, facendo uso di una sola riga di codice, la matrice A di ordine 10, che ha gli unici elementi diversi da zero, sulla diagonale principale, sulla codiagonale inferiore e sulla codiagonale superiore:\n",
        "\n",
        "elementi diagonali $A_{i,i}=10 \\quad$, i=1,20\n",
        "\n",
        "elementi nella codiagonale inferiore $A_{i-1,i}=-12, \\quad$ i=2,..,20,\n",
        "\n",
        "elementi nella codiagonale superiore $A_{i,i+1}=-2 \\quad$ i=1,..,19"
      ]
    },
    {
      "cell_type": "code",
      "source": [
        "matrix = np.diag(np.ones((20,))*10) + np.diag(np.ones((19,)) * -12, k=-1) + np.diag(np.ones((19,)) * -2, k=1)\n",
        "print(matrix)\n",
        "print(matrix.shape[1])"
      ],
      "metadata": {
        "colab": {
          "base_uri": "https://localhost:8080/"
        },
        "id": "2r0YMpfWbFN2",
        "outputId": "6b6156b0-77a8-4cfc-a1de-3e678253f61c"
      },
      "id": "2r0YMpfWbFN2",
      "execution_count": 74,
      "outputs": [
        {
          "output_type": "stream",
          "name": "stdout",
          "text": [
            "[[ 10.  -2.   0.   0.   0.   0.   0.   0.   0.   0.   0.   0.   0.   0.\n",
            "    0.   0.   0.   0.   0.   0.]\n",
            " [-12.  10.  -2.   0.   0.   0.   0.   0.   0.   0.   0.   0.   0.   0.\n",
            "    0.   0.   0.   0.   0.   0.]\n",
            " [  0. -12.  10.  -2.   0.   0.   0.   0.   0.   0.   0.   0.   0.   0.\n",
            "    0.   0.   0.   0.   0.   0.]\n",
            " [  0.   0. -12.  10.  -2.   0.   0.   0.   0.   0.   0.   0.   0.   0.\n",
            "    0.   0.   0.   0.   0.   0.]\n",
            " [  0.   0.   0. -12.  10.  -2.   0.   0.   0.   0.   0.   0.   0.   0.\n",
            "    0.   0.   0.   0.   0.   0.]\n",
            " [  0.   0.   0.   0. -12.  10.  -2.   0.   0.   0.   0.   0.   0.   0.\n",
            "    0.   0.   0.   0.   0.   0.]\n",
            " [  0.   0.   0.   0.   0. -12.  10.  -2.   0.   0.   0.   0.   0.   0.\n",
            "    0.   0.   0.   0.   0.   0.]\n",
            " [  0.   0.   0.   0.   0.   0. -12.  10.  -2.   0.   0.   0.   0.   0.\n",
            "    0.   0.   0.   0.   0.   0.]\n",
            " [  0.   0.   0.   0.   0.   0.   0. -12.  10.  -2.   0.   0.   0.   0.\n",
            "    0.   0.   0.   0.   0.   0.]\n",
            " [  0.   0.   0.   0.   0.   0.   0.   0. -12.  10.  -2.   0.   0.   0.\n",
            "    0.   0.   0.   0.   0.   0.]\n",
            " [  0.   0.   0.   0.   0.   0.   0.   0.   0. -12.  10.  -2.   0.   0.\n",
            "    0.   0.   0.   0.   0.   0.]\n",
            " [  0.   0.   0.   0.   0.   0.   0.   0.   0.   0. -12.  10.  -2.   0.\n",
            "    0.   0.   0.   0.   0.   0.]\n",
            " [  0.   0.   0.   0.   0.   0.   0.   0.   0.   0.   0. -12.  10.  -2.\n",
            "    0.   0.   0.   0.   0.   0.]\n",
            " [  0.   0.   0.   0.   0.   0.   0.   0.   0.   0.   0.   0. -12.  10.\n",
            "   -2.   0.   0.   0.   0.   0.]\n",
            " [  0.   0.   0.   0.   0.   0.   0.   0.   0.   0.   0.   0.   0. -12.\n",
            "   10.  -2.   0.   0.   0.   0.]\n",
            " [  0.   0.   0.   0.   0.   0.   0.   0.   0.   0.   0.   0.   0.   0.\n",
            "  -12.  10.  -2.   0.   0.   0.]\n",
            " [  0.   0.   0.   0.   0.   0.   0.   0.   0.   0.   0.   0.   0.   0.\n",
            "    0. -12.  10.  -2.   0.   0.]\n",
            " [  0.   0.   0.   0.   0.   0.   0.   0.   0.   0.   0.   0.   0.   0.\n",
            "    0.   0. -12.  10.  -2.   0.]\n",
            " [  0.   0.   0.   0.   0.   0.   0.   0.   0.   0.   0.   0.   0.   0.\n",
            "    0.   0.   0. -12.  10.  -2.]\n",
            " [  0.   0.   0.   0.   0.   0.   0.   0.   0.   0.   0.   0.   0.   0.\n",
            "    0.   0.   0.   0. -12.  10.]]\n",
            "20\n"
          ]
        }
      ]
    },
    {
      "cell_type": "markdown",
      "id": "53d3ad23-63ab-4719-b2d2-f2b1cb942063",
      "metadata": {
        "id": "53d3ad23-63ab-4719-b2d2-f2b1cb942063"
      },
      "source": [
        "## Esercizio 16\n",
        "Costruire la matrice identità, denominata *I*,  della stessa dimensione di *A*"
      ]
    },
    {
      "cell_type": "code",
      "source": [
        "I = np.identity(matrix.shape[1])\n",
        "print(I)\n",
        "print(I.shape)"
      ],
      "metadata": {
        "colab": {
          "base_uri": "https://localhost:8080/"
        },
        "id": "HoXVLLkxghr0",
        "outputId": "42ef9871-cb24-4d4b-a6df-e662e5b70c5e"
      },
      "id": "HoXVLLkxghr0",
      "execution_count": 77,
      "outputs": [
        {
          "output_type": "stream",
          "name": "stdout",
          "text": [
            "[[1. 0. 0. 0. 0. 0. 0. 0. 0. 0. 0. 0. 0. 0. 0. 0. 0. 0. 0. 0.]\n",
            " [0. 1. 0. 0. 0. 0. 0. 0. 0. 0. 0. 0. 0. 0. 0. 0. 0. 0. 0. 0.]\n",
            " [0. 0. 1. 0. 0. 0. 0. 0. 0. 0. 0. 0. 0. 0. 0. 0. 0. 0. 0. 0.]\n",
            " [0. 0. 0. 1. 0. 0. 0. 0. 0. 0. 0. 0. 0. 0. 0. 0. 0. 0. 0. 0.]\n",
            " [0. 0. 0. 0. 1. 0. 0. 0. 0. 0. 0. 0. 0. 0. 0. 0. 0. 0. 0. 0.]\n",
            " [0. 0. 0. 0. 0. 1. 0. 0. 0. 0. 0. 0. 0. 0. 0. 0. 0. 0. 0. 0.]\n",
            " [0. 0. 0. 0. 0. 0. 1. 0. 0. 0. 0. 0. 0. 0. 0. 0. 0. 0. 0. 0.]\n",
            " [0. 0. 0. 0. 0. 0. 0. 1. 0. 0. 0. 0. 0. 0. 0. 0. 0. 0. 0. 0.]\n",
            " [0. 0. 0. 0. 0. 0. 0. 0. 1. 0. 0. 0. 0. 0. 0. 0. 0. 0. 0. 0.]\n",
            " [0. 0. 0. 0. 0. 0. 0. 0. 0. 1. 0. 0. 0. 0. 0. 0. 0. 0. 0. 0.]\n",
            " [0. 0. 0. 0. 0. 0. 0. 0. 0. 0. 1. 0. 0. 0. 0. 0. 0. 0. 0. 0.]\n",
            " [0. 0. 0. 0. 0. 0. 0. 0. 0. 0. 0. 1. 0. 0. 0. 0. 0. 0. 0. 0.]\n",
            " [0. 0. 0. 0. 0. 0. 0. 0. 0. 0. 0. 0. 1. 0. 0. 0. 0. 0. 0. 0.]\n",
            " [0. 0. 0. 0. 0. 0. 0. 0. 0. 0. 0. 0. 0. 1. 0. 0. 0. 0. 0. 0.]\n",
            " [0. 0. 0. 0. 0. 0. 0. 0. 0. 0. 0. 0. 0. 0. 1. 0. 0. 0. 0. 0.]\n",
            " [0. 0. 0. 0. 0. 0. 0. 0. 0. 0. 0. 0. 0. 0. 0. 1. 0. 0. 0. 0.]\n",
            " [0. 0. 0. 0. 0. 0. 0. 0. 0. 0. 0. 0. 0. 0. 0. 0. 1. 0. 0. 0.]\n",
            " [0. 0. 0. 0. 0. 0. 0. 0. 0. 0. 0. 0. 0. 0. 0. 0. 0. 1. 0. 0.]\n",
            " [0. 0. 0. 0. 0. 0. 0. 0. 0. 0. 0. 0. 0. 0. 0. 0. 0. 0. 1. 0.]\n",
            " [0. 0. 0. 0. 0. 0. 0. 0. 0. 0. 0. 0. 0. 0. 0. 0. 0. 0. 0. 1.]]\n",
            "(20, 20)\n"
          ]
        }
      ]
    },
    {
      "cell_type": "markdown",
      "id": "b5257ffc-b9c9-4d22-a3b4-427b03f2e8dc",
      "metadata": {
        "id": "b5257ffc-b9c9-4d22-a3b4-427b03f2e8dc"
      },
      "source": [
        "## Esercizio 17\n",
        "Facendo uso dell'operatore slicing *:* ,costruire la matrice AA selezionando dalla matrice A le righe che vanno dalla 2 alla 9 con step 2 e le colonne che vanno dalla 3 alla 6 con step 2.\n",
        "La matrice AA è una vista o una copia?"
      ]
    },
    {
      "cell_type": "code",
      "source": [
        "AA = np.array(matrix[2:10:2, 3:7:2])\n",
        "print(AA)"
      ],
      "metadata": {
        "colab": {
          "base_uri": "https://localhost:8080/"
        },
        "id": "OJenEc18hxGM",
        "outputId": "d6856d4b-e433-4cb3-a740-60fbd248faa0"
      },
      "id": "OJenEc18hxGM",
      "execution_count": 78,
      "outputs": [
        {
          "output_type": "stream",
          "name": "stdout",
          "text": [
            "[[ -2.   0.]\n",
            " [-12.  -2.]\n",
            " [  0. -12.]\n",
            " [  0.   0.]]\n"
          ]
        }
      ]
    },
    {
      "cell_type": "markdown",
      "id": "090aeaa9-fb12-44bc-9560-5b11a0e6f503",
      "metadata": {
        "id": "090aeaa9-fb12-44bc-9560-5b11a0e6f503"
      },
      "source": [
        "## Esercizio 18\n",
        "Facendo uso dell'operatore slicing *:*, costruire la matrice A1 selezionando dalla matrice A le colonne che vanno dalla 1 alla 5 con step 2.  Trasforma la matrice A1 in una copia."
      ]
    },
    {
      "cell_type": "code",
      "source": [
        "A1 = np.array(matrix[:,1:6:2])\n",
        "print(A1)"
      ],
      "metadata": {
        "colab": {
          "base_uri": "https://localhost:8080/"
        },
        "id": "8z9gaNZjklwq",
        "outputId": "9e5ced4d-af9d-4ce8-f9e6-77bbab98b04f"
      },
      "id": "8z9gaNZjklwq",
      "execution_count": 79,
      "outputs": [
        {
          "output_type": "stream",
          "name": "stdout",
          "text": [
            "[[ -2.   0.   0.]\n",
            " [ 10.   0.   0.]\n",
            " [-12.  -2.   0.]\n",
            " [  0.  10.   0.]\n",
            " [  0. -12.  -2.]\n",
            " [  0.   0.  10.]\n",
            " [  0.   0. -12.]\n",
            " [  0.   0.   0.]\n",
            " [  0.   0.   0.]\n",
            " [  0.   0.   0.]\n",
            " [  0.   0.   0.]\n",
            " [  0.   0.   0.]\n",
            " [  0.   0.   0.]\n",
            " [  0.   0.   0.]\n",
            " [  0.   0.   0.]\n",
            " [  0.   0.   0.]\n",
            " [  0.   0.   0.]\n",
            " [  0.   0.   0.]\n",
            " [  0.   0.   0.]\n",
            " [  0.   0.   0.]]\n"
          ]
        }
      ]
    },
    {
      "cell_type": "markdown",
      "id": "a5449d1f-1232-4ba0-a2d6-4d2e2d9c7a36",
      "metadata": {
        "id": "a5449d1f-1232-4ba0-a2d6-4d2e2d9c7a36"
      },
      "source": [
        "## Esercizio 19\n",
        "\n",
        "Costruisci due numpy array A e B di shape (5,5)\n",
        "   - A formata da numeri interi casuali  nell'intervallo [1,20]\n",
        "   - B formata da numeri interi casuali  nell'intervallo [1,6]\n",
        "\n",
        "  Costruisci con una sola riga di codice le seguenti matrici\n",
        "  \n",
        "  C=A+B   dove  $\\quad c_{ij}=a_{ij}+b_{ij} \\quad i=0,..,n, \\quad j=0,...,n$\n",
        "  \n",
        "  D=A-B   dove  $\\quad d_{ij}=a_{ij}-b_{ij} \\quad i=0,..,n, \\quad j=0,...,n$\n",
        "  \n",
        "  E=A*B   dove  $\\quad e_{ij}=a_{ij}*b_{ij} \\quad i=0,..,n, \\quad j=0,...,n$\n",
        "  \n",
        "  F=A/B   dove  $\\quad f_{ij}=a_{ij}/b_{ij} \\quad i=0,..,n, \\quad j=0,...,n$"
      ]
    },
    {
      "cell_type": "code",
      "source": [
        "A = np.random.randint(1,20,25).reshape(5,5)\n",
        "B = np.random.randint(1,6,25).reshape(5,5)\n",
        "\n",
        "print(A + B)\n",
        "print(A - B)\n",
        "print(A * B)\n",
        "print(A / B)"
      ],
      "metadata": {
        "colab": {
          "base_uri": "https://localhost:8080/"
        },
        "id": "RVQDnMxjl7eq",
        "outputId": "e65266f5-41c5-45f5-b616-a84c1d08f092"
      },
      "id": "RVQDnMxjl7eq",
      "execution_count": 85,
      "outputs": [
        {
          "output_type": "stream",
          "name": "stdout",
          "text": [
            "[[19 12  5 19 17]\n",
            " [ 6 12 19 12 16]\n",
            " [18 16 17 11 13]\n",
            " [21 10 15 18 13]\n",
            " [16 17 10 21  6]]\n",
            "[[15  2 -3 15  9]\n",
            " [ 2 10  9  2  8]\n",
            " [10 12 13  3  5]\n",
            " [13  8  7 16  7]\n",
            " [14 15  6 15 -4]]\n",
            "[[34 35  4 34 52]\n",
            " [ 8 11 70 35 48]\n",
            " [56 28 30 28 36]\n",
            " [68  9 44 17 30]\n",
            " [15 16 16 54  5]]\n",
            "[[ 8.5         1.4         0.25        8.5         3.25      ]\n",
            " [ 2.         11.          2.8         1.4         3.        ]\n",
            " [ 3.5         7.          7.5         1.75        2.25      ]\n",
            " [ 4.25        9.          2.75       17.          3.33333333]\n",
            " [15.         16.          4.          6.          0.2       ]]\n"
          ]
        }
      ]
    },
    {
      "cell_type": "markdown",
      "id": "5a4ad10c-ccfa-45ce-b6ba-b7ddab44db3d",
      "metadata": {
        "id": "5a4ad10c-ccfa-45ce-b6ba-b7ddab44db3d"
      },
      "source": [
        "## Esercizio 20\n",
        "Dato array NumPy che rappresenta le vendite giornaliere di un negozio per un mese,\n",
        "vendite = np.random.randint(50, 200, 30)\n",
        "\n",
        "        Trova tutti i giorni in cui le vendite sono state superiori a 150.\n",
        "\n",
        "        Calcola la media delle vendite solo per i giorni in cui sono state superiori a 150.\n",
        "\n",
        "        Imposta le vendite a 0 per tutti i giorni in cui sono state inferiori a 100.\n"
      ]
    },
    {
      "cell_type": "code",
      "source": [
        "vendite = np.random.randint(50,200,30)\n",
        "gran_days = vendite[vendite > 150]\n",
        "print(gran_days)\n",
        "print(gran_days.mean())\n",
        "vendite[vendite < 100] = 0\n",
        "print(vendite)"
      ],
      "metadata": {
        "colab": {
          "base_uri": "https://localhost:8080/"
        },
        "id": "n6-pCR61m-9i",
        "outputId": "1897931d-cf36-4c49-966c-ec1d78211b3c"
      },
      "id": "n6-pCR61m-9i",
      "execution_count": 106,
      "outputs": [
        {
          "output_type": "stream",
          "name": "stdout",
          "text": [
            "[168 178 177 167 165 186 159]\n",
            "171.42857142857142\n",
            "[  0   0 143 119 119   0 141   0 104   0 168 121 178   0 177 120 167 165\n",
            " 186 159 122   0   0 100 108   0   0   0   0 132]\n"
          ]
        }
      ]
    },
    {
      "cell_type": "markdown",
      "id": "d90da717-8cd5-425f-937e-588d6ccb045a",
      "metadata": {
        "tags": [],
        "id": "d90da717-8cd5-425f-937e-588d6ccb045a"
      },
      "source": [
        "## Esercizio 21\n",
        "Costruisci A, un numpy array 2d di shape (3,3) e b,  un numpy array 2d di shape (3,1)\n",
        "e somma b ad ogni colonna di A b\n"
      ]
    },
    {
      "cell_type": "code",
      "source": [
        "A = np.identity(3)\n",
        "B = np.array([1,2,3]).reshape(3,1)\n",
        "\n",
        "print(A + B)"
      ],
      "metadata": {
        "colab": {
          "base_uri": "https://localhost:8080/"
        },
        "id": "dQ8J692FptZb",
        "outputId": "9bee91ab-17bc-4d7b-ca9c-aabd96a283d3"
      },
      "id": "dQ8J692FptZb",
      "execution_count": 111,
      "outputs": [
        {
          "output_type": "stream",
          "name": "stdout",
          "text": [
            "[[2. 1. 1.]\n",
            " [2. 3. 2.]\n",
            " [3. 3. 4.]]\n"
          ]
        }
      ]
    },
    {
      "cell_type": "markdown",
      "id": "ece2f514-aea7-4883-9b5f-8671d698c761",
      "metadata": {
        "id": "ece2f514-aea7-4883-9b5f-8671d698c761"
      },
      "source": [
        "# Esercizio 22\n",
        "dato il numpy array 2d G=np.linspace(0,10,20).reshape(-1,4), scambia in G la seconda riga con la quarta riga"
      ]
    },
    {
      "cell_type": "code",
      "source": [
        "G = np.linspace(0,10,20).reshape(-1,4)\n",
        "print(G)\n",
        "G[[2,4],:] = G[[4,2], :]\n",
        "print(G)"
      ],
      "metadata": {
        "colab": {
          "base_uri": "https://localhost:8080/"
        },
        "id": "YXuAF_zOrMjp",
        "outputId": "977082d7-227e-4fa0-d108-235f7735be51"
      },
      "id": "YXuAF_zOrMjp",
      "execution_count": 116,
      "outputs": [
        {
          "output_type": "stream",
          "name": "stdout",
          "text": [
            "[[ 0.          0.52631579  1.05263158  1.57894737]\n",
            " [ 2.10526316  2.63157895  3.15789474  3.68421053]\n",
            " [ 4.21052632  4.73684211  5.26315789  5.78947368]\n",
            " [ 6.31578947  6.84210526  7.36842105  7.89473684]\n",
            " [ 8.42105263  8.94736842  9.47368421 10.        ]]\n",
            "[[ 0.          0.52631579  1.05263158  1.57894737]\n",
            " [ 2.10526316  2.63157895  3.15789474  3.68421053]\n",
            " [ 8.42105263  8.94736842  9.47368421 10.        ]\n",
            " [ 6.31578947  6.84210526  7.36842105  7.89473684]\n",
            " [ 4.21052632  4.73684211  5.26315789  5.78947368]]\n"
          ]
        }
      ]
    },
    {
      "cell_type": "markdown",
      "id": "a2c733be-fc9f-4a0a-80e0-fa1570468da3",
      "metadata": {
        "id": "a2c733be-fc9f-4a0a-80e0-fa1570468da3"
      },
      "source": [
        "## Esercizio 23\n",
        "Visualizzare il grafico della funzione $f(x)=sin^2(x)/x$ in 200 punti equidistanti nell'intervallo $[0.1,2\\pi]$"
      ]
    },
    {
      "cell_type": "code",
      "source": [
        "f = lambda x: np.sin(x)**2 / x\n",
        "x = np.linspace(0.1, 2*np.pi, 200)\n",
        "y = f(x)\n",
        "\n",
        "plt.plot(x,y)\n",
        "plt.show()"
      ],
      "metadata": {
        "colab": {
          "base_uri": "https://localhost:8080/",
          "height": 430
        },
        "id": "s0GZhIqptYyl",
        "outputId": "2d14b25f-7a9d-4522-b878-6f61709f4710"
      },
      "id": "s0GZhIqptYyl",
      "execution_count": 122,
      "outputs": [
        {
          "output_type": "display_data",
          "data": {
            "text/plain": [
              "<Figure size 640x480 with 1 Axes>"
            ],
            "image/png": "[encoded data removed]"
          },
          "metadata": {}
        }
      ]
    },
    {
      "cell_type": "markdown",
      "id": "32f6ae8b-ccce-47f1-b196-820a96c325fd",
      "metadata": {
        "id": "32f6ae8b-ccce-47f1-b196-820a96c325fd"
      },
      "source": [
        "## Esercizio 24\n",
        "\n",
        "Data il numpy arra2d ottenuto facendo un reshape a (4,4) di un numpy array 1d di 16 valori equidistanti nell'intervallo [0,4]\n",
        "ed un numpy array 1d di 4 valori  interi casuali nell'intervallo [10,60], costruire il prodotto scalare A per b,\n",
        "usando A@b, e vettorizzando solo il ciclo interno.\n"
      ]
    },
    {
      "cell_type": "code",
      "source": [
        "arr = np.linspace(0,4,16).reshape(4,4)\n",
        "arr2 = np.random.randint(10,60,4)\n",
        "dot_p = arr @ arr2\n",
        "print(dot_p)"
      ],
      "metadata": {
        "colab": {
          "base_uri": "https://localhost:8080/"
        },
        "id": "GGsM2Ml7uIu8",
        "outputId": "b8773f3a-f42d-4963-998e-02d6a9b3757f"
      },
      "id": "GGsM2Ml7uIu8",
      "execution_count": 123,
      "outputs": [
        {
          "output_type": "stream",
          "name": "stdout",
          "text": [
            "[ 32.53333333 144.53333333 256.53333333 368.53333333]\n"
          ]
        }
      ]
    },
    {
      "cell_type": "markdown",
      "id": "fb626777-c3f2-423b-a01b-c9e80032e308",
      "metadata": {
        "id": "fb626777-c3f2-423b-a01b-c9e80032e308"
      },
      "source": [
        "## Esercizio 25\n",
        "Dato g un numpy array 2d, estendilo di una riga in alto ed di una riga in basso, di una colonna a sinistra ed di una colonna a destra, usa la funzione g_est= np.pad(g,(1,1),mode='reflect'). Visualizza 'g_est' e commenta cosa vedi."
      ]
    },
    {
      "cell_type": "code",
      "source": [
        "g = np.zeros((3,3))\n",
        "print(g)\n",
        "\n",
        "g_estc= np.pad(g,(1,1),mode='reflect')\n",
        "print(g_estc)"
      ],
      "metadata": {
        "colab": {
          "base_uri": "https://localhost:8080/"
        },
        "id": "MYp24Pi-vGea",
        "outputId": "71a24456-1429-41eb-d4b6-32e90e4ea0ef"
      },
      "id": "MYp24Pi-vGea",
      "execution_count": 130,
      "outputs": [
        {
          "output_type": "stream",
          "name": "stdout",
          "text": [
            "[[0. 0. 0.]\n",
            " [0. 0. 0.]\n",
            " [0. 0. 0.]]\n",
            "[[0. 0. 0. 0. 0.]\n",
            " [0. 0. 0. 0. 0.]\n",
            " [0. 0. 0. 0. 0.]\n",
            " [0. 0. 0. 0. 0.]\n",
            " [0. 0. 0. 0. 0.]]\n"
          ]
        }
      ]
    },
    {
      "cell_type": "markdown",
      "id": "958c2100-787e-438b-a162-0aa08465f476",
      "metadata": {
        "id": "958c2100-787e-438b-a162-0aa08465f476"
      },
      "source": [
        "## Esercizio 26\n",
        "Scrivi un programma Python che esegua l'elaborazione di un'immagine utilizzando un filtro di media.\n",
        "\n",
        "Utilizza il padding per gestire i pixel del bordo durante l'applicazione del filtro.\n",
        "\n",
        "Il programma deve seguire questi passaggi:\n",
        "\n",
        "- Carica l'immagine: Carica l'immagine 'cameraman.png' utilizzando la libreria Matplotlib.**image=plt.imread('cameraman.png')**\n",
        "- Visualizza l'immagine originale **plt.imshow(image,cmap='gray')**\n",
        "- definisce la dimensione del filtro, dim_filtro\n",
        "- Applica il padding: Applica un padding costante di dim_filtro//2 pixel a tutti i bordi dell'immagine (utilizzando il metodo di numpy **image_bordered=np.pad(image,(dim_filtro//2,dim_filtro//2),, mode='reflect')**\n",
        "- Crea il filtro di media: Crea un filtro di media di dimensioni *dim_filtroxdim_filtro*, dove tutti gli elementi sono pari a 1/(dim_filtroxdim_filtro)\n",
        "- Applica il filtro: Scorri ogni pixel dell'immagine con padding (escludendo i bordi aggiunti) e applica il filtro di media.\n",
        "\n",
        "   *Per ogni pixel, calcola la somma dei prodotti tra i pixel della sottomatrice dim_filtroxdim_filtro centrata sul pixel corrente e il filtro.*\n",
        "   \n",
        "- Crea l'immagine filtrata: Crea un nuovo array NumPy che rappresenta l'immagine filtrata, dove ogni pixel contiene il risultato dell'applicazione del filtro.\n",
        "- Visualizza l'immagine filtrata: Visualizza l'immagine filtrata utilizzando Matplotlib con la mappa di colori 'gray'.\n",
        "- Aggiungi una colorbar per visualizzare la scala dei valori dell'immagine filtrata.\n",
        "- Mostra l'immagine filtrata con Matplotlib.\n",
        "\n",
        "\n",
        "Requisiti:\n",
        "\n",
        "-  Utilizzare la libreria Matplotlib per caricare e visualizzare l'immagine.\n",
        "-  Utilizzare la libreria NumPy per la manipolazione degli array e per il padding."
      ]
    }
  ],
  "metadata": {
    "kernelspec": {
      "display_name": "Python 3 (ipykernel)",
      "language": "python",
      "name": "python3"
    },
    "language_info": {
      "codemirror_mode": {
        "name": "ipython",
        "version": 3
      },
      "file_extension": ".py",
      "mimetype": "text/x-python",
      "name": "python",
      "nbconvert_exporter": "python",
      "pygments_lexer": "ipython3",
      "version": "3.11.5"
    },
    "colab": {
      "provenance": [],
      "include_colab_link": true
    }
  },
  "nbformat": 4,
  "nbformat_minor": 5
}