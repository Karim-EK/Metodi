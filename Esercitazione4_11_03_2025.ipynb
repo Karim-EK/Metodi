{
 "cells": [
  {
   "cell_type": "markdown",
   "id": "b97be3ab-d6dd-495f-a342-e5e837cfb8bc",
   "metadata": {},
   "source": [
    "# Esercitazione 4 - 11 Marzo 2025\n",
    " "
   ]
  },
  {
   "cell_type": "markdown",
   "id": "3f58ec10-478d-463a-9828-9f4d7fbd2f2c",
   "metadata": {},
   "source": [
    "Esplorate le caratteristiche dell'insieme dei numeri di macchina F($\\beta$,t,L,U) sul vostro calcolatore utilizzando il comando sys.float_info, dopo aver importato im modulo sys:\n",
    "\n",
    "import sys\n",
    "\n",
    "print(sys.float_info)"
   ]
  },
  {
   "cell_type": "code",
   "execution_count": 40,
   "id": "384af5e7-a839-4d1b-bc7e-baac040cd5cd",
   "metadata": {},
   "outputs": [
    {
     "name": "stdout",
     "output_type": "stream",
     "text": [
      "sys.float_info(max=1.7976931348623157e+308, max_exp=1024, max_10_exp=308, min=2.2250738585072014e-308, min_exp=-1021, min_10_exp=-307, dig=15, mant_dig=53, epsilon=2.220446049250313e-16, radix=2, rounds=1)\n"
     ]
    }
   ],
   "source": [
    "import sys\n",
    "import numpy as np\n",
    "import math\n",
    "print(sys.float_info)"
   ]
  },
  {
   "cell_type": "markdown",
   "id": "224ac7e6-31df-4f15-8ffc-9c82bd21c82e",
   "metadata": {},
   "source": [
    "- **1.**  Calcolare lo spacing in  $[2^{52}, 2^{53}]$.\n",
    "    - Sia $x=2^{52}$ individuare il numero successivo a $2^{52}$ ed assegnarlo ad una variabile  y.\n",
    "    - Cosa succede se consideriamo il valore z=x+0.5?\n",
    "    - Cosa succede se consideriamo il valore q=y+0.5?\n",
    "  "
   ]
  },
  {
   "cell_type": "code",
   "execution_count": 29,
   "id": "4ffda0fd-978a-4165-9bdb-58aeeb779f79",
   "metadata": {},
   "outputs": [
    {
     "name": "stdout",
     "output_type": "stream",
     "text": [
      "spacing = 1\n",
      "x = 4503599627370496\n",
      "y = 4503599627370497\n",
      "4503599627370496.0\n",
      "4503599627370498.0\n"
     ]
    }
   ],
   "source": [
    "beta = 2\n",
    "p = 52\n",
    "t = 53\n",
    "spacing = beta**(p+1-t)\n",
    "x = 2**52\n",
    "print(\"spacing =\", spacing)\n",
    "print(\"x =\",x)\n",
    "y = x + spacing\n",
    "print(\"y =\", y)\n",
    "z = x + 0.5\n",
    "print(z)\n",
    "q = y + 0.5\n",
    "print(q)"
   ]
  },
  {
   "cell_type": "markdown",
   "id": "c73d1758-eb82-48af-8618-6dfb522dcdd6",
   "metadata": {},
   "source": [
    "- **2** Calcolare la cardinalità dell'insieme dei numeri finiti di Python"
   ]
  },
  {
   "cell_type": "code",
   "execution_count": 3,
   "id": "943c45a1-4d55-4b9f-9b73-b5a5db649550",
   "metadata": {},
   "outputs": [
    {
     "name": "stdout",
     "output_type": "stream",
     "text": [
      "18428729675200069633\n"
     ]
    }
   ],
   "source": [
    "l = -1021\n",
    "u = 1024\n",
    "cardF = 2 * (beta-1) * beta**(t-1) * (u - l + 1) + 1\n",
    "print(cardF)"
   ]
  },
  {
   "cell_type": "markdown",
   "id": "cee853bd-aca6-47f4-980f-7e44473f7523",
   "metadata": {},
   "source": [
    "- **3**  Verificare numericamente che $\\texttt{eps} = 2^{-52}$, spacing nell'intervallo $[1, 2]$,\n",
    "è il piu' piccolo $x$ tale che $fl(1 + x)$ è  diverso da $1$."
   ]
  },
  {
   "cell_type": "code",
   "execution_count": 14,
   "id": "858711e4-3bee-4547-8f23-df1edf7bea68",
   "metadata": {},
   "outputs": [
    {
     "name": "stdout",
     "output_type": "stream",
     "text": [
      "2.220446049250313e-16\n",
      "2.220446049250313e-16\n",
      "2.220446049250313e-16\n",
      "1.0000000000000002\n",
      "1.0000000000000002\n"
     ]
    }
   ],
   "source": [
    "eps = beta**(1-t)\n",
    "p = 0\n",
    "print(eps)\n",
    "print(2**-52)\n",
    "spacing = beta**(p+1-t)\n",
    "print(spacing)\n",
    "print(1+spacing)\n",
    "print(1+eps)"
   ]
  },
  {
   "cell_type": "markdown",
   "id": "d19cd104-d1ea-4444-996c-0a9672063450",
   "metadata": {},
   "source": [
    "- **4.** Siano $a=0.1234567890123400 e+16$, $b=-0.1234567890123401 e+16$, $c=0.06$. \n",
    "  Calcolare $(a+b)+c$, $(a+c)+b$, $a+(b+c)$. Che cosa si osserva? Ripetere l'esercizio con $a=0.23371258 e-4$, $b=0.33678429 e+2$, $c=-0.33677911 e+2$."
   ]
  },
  {
   "cell_type": "code",
   "execution_count": 28,
   "id": "e5ed8db4-4b63-427d-9357-3a3a5154a0d5",
   "metadata": {},
   "outputs": [
    {
     "name": "stdout",
     "output_type": "stream",
     "text": [
      "-0.94\n",
      "-1.0\n",
      "-1.0\n",
      "0.0005413712580022434\n",
      "0.0005413712580022434\n",
      "0.0005413712579995743\n"
     ]
    }
   ],
   "source": [
    "a=0.1234567890123400e+16\n",
    "b=-0.1234567890123401e+16\n",
    "c=0.06\n",
    "print((a+b)+c)\n",
    "print((a+c)+b)\n",
    "print(a+(b+c))\n",
    "a=0.23371258e-4\n",
    "b=0.33678429e+2\n",
    "c=-0.33677911e+2\n",
    "print((a+b)+c)\n",
    "print((a+c)+b)\n",
    "print(a+(b+c))"
   ]
  },
  {
   "cell_type": "markdown",
   "id": "269a23ac-daeb-49f4-b1f1-26a3b5cd8300",
   "metadata": {},
   "source": [
    "- **5** Costruire un numpy array costituito da n=10 valori tutti uguali a 0.1\n",
    "-     Effettuate la somma utilizzando un ciclo for.\n",
    "-     Effettuate la somma effettuando la somma con la funzione sum del modulo numpy.\n",
    "  Cosa osservate? Cercate di giustificare i risultati "
   ]
  },
  {
   "cell_type": "code",
   "execution_count": 37,
   "id": "ec9588d0-ef4e-4840-a2c4-86f335a914a7",
   "metadata": {},
   "outputs": [
    {
     "name": "stdout",
     "output_type": "stream",
     "text": [
      "[0.1 0.1 0.1 0.1 0.1 0.1 0.1 0.1 0.1 0.1]\n",
      "0.9999999999999999\n",
      "1.0\n"
     ]
    }
   ],
   "source": [
    "array = np.full(10, 0.1)\n",
    "print(array)\n",
    "sum = 0.0\n",
    "for x in array:\n",
    "    sum = sum + x\n",
    "print(sum)\n",
    "sum = np.sum(array)\n",
    "print(sum)"
   ]
  },
  {
   "cell_type": "markdown",
   "id": "960d25c1-9677-4b1e-92c1-c16870d520b6",
   "metadata": {},
   "source": [
    "- **6.** Si considerino le espressioni $y_1=\\sqrt{x^2+1}-x$ e $y_2=\\frac{1}{\\sqrt{x^2+1}+x}$. Calcolare il valore di $y_1$ e $y_2$ per $x=7777$ e $x=77777777$. Che cosa si osserva? Commentare i risultati ottenuti."
   ]
  },
  {
   "cell_type": "code",
   "execution_count": 66,
   "id": "271b6fe2-9eda-4cbd-aed6-b3493ad9ccec",
   "metadata": {},
   "outputs": [
    {
     "name": "stdout",
     "output_type": "stream",
     "text": [
      "6.429214317904552e-05\n",
      "6.429214323431402e-05\n",
      "0.0\n",
      "6.428571492857143e-09\n"
     ]
    }
   ],
   "source": [
    "x1 = 7777\n",
    "x2 = 77777777\n",
    "y1 = lambda x: math.sqrt(x**2 + 1) - x\n",
    "y2 = lambda x: (1/(math.sqrt(x**2 + 1) + x))\n",
    "print(y1(x1))\n",
    "print(y2(x1))\n",
    "print(y1(x2))\n",
    "print(y2(x2))"
   ]
  },
  {
   "cell_type": "markdown",
   "id": "e3d8c3b3-d514-41ec-a6f2-eb22311ab157",
   "metadata": {},
   "source": [
    "- **7.** Valutare in aritmetica floating point l'espressione\n",
    "$$A(x)=\\frac{1}{x}-\\frac{1}{(x+1)}$$  nel vettore   $x=[10^0, 10^1,... ,10^{20}]$ contenente potenze successive  di $10$,  Si calcoli per ogni elemento di x l'errore relativo considerando come valore esatto quello calcolato usando  l'espressione algebricamente equivalente\n",
    "$$\n",
    "B(x)=\\frac{1}{x (x+1)}.\n",
    "$$ Si visualizzi l'errore relativo in un grafico in scala logaritmica su $x$ e $y$"
   ]
  },
  {
   "cell_type": "code",
   "execution_count": 74,
   "id": "9dd51490-9c49-47c3-9cb0-e6bffa4a622a",
   "metadata": {},
   "outputs": [
    {
     "name": "stdout",
     "output_type": "stream",
     "text": [
      "[1 10 100 1000 10000 100000 1000000 10000000 100000000 1000000000\n",
      " 10000000000 100000000000 1000000000000 10000000000000 100000000000000\n",
      " 1000000000000000 10000000000000000 100000000000000000 1000000000000000000\n",
      " 10000000000000000000 100000000000000000000]\n"
     ]
    },
    {
     "ename": "TypeError",
     "evalue": "'int' object is not callable",
     "output_type": "error",
     "traceback": [
      "\u001b[1;31m---------------------------------------------------------------------------\u001b[0m",
      "\u001b[1;31mTypeError\u001b[0m                                 Traceback (most recent call last)",
      "Cell \u001b[1;32mIn[74], line 11\u001b[0m\n\u001b[0;32m      7\u001b[0m B \u001b[38;5;241m=\u001b[39m \u001b[38;5;28;01mlambda\u001b[39;00m x: \u001b[38;5;241m1.0\u001b[39m\u001b[38;5;241m/\u001b[39m(x(x\u001b[38;5;241m+\u001b[39m\u001b[38;5;241m1.0\u001b[39m))\n\u001b[0;32m      9\u001b[0m Err \u001b[38;5;241m=\u001b[39m \u001b[38;5;28;01mlambda\u001b[39;00m a: (\u001b[38;5;28mabs\u001b[39m(A(a) \u001b[38;5;241m-\u001b[39m B(a)) \u001b[38;5;241m/\u001b[39m \u001b[38;5;28mabs\u001b[39m(B(a)))\n\u001b[1;32m---> 11\u001b[0m Err(\u001b[38;5;241m55\u001b[39m)\n",
      "Cell \u001b[1;32mIn[74], line 9\u001b[0m, in \u001b[0;36m<lambda>\u001b[1;34m(a)\u001b[0m\n\u001b[0;32m      6\u001b[0m A \u001b[38;5;241m=\u001b[39m \u001b[38;5;28;01mlambda\u001b[39;00m x: \u001b[38;5;241m1.0\u001b[39m\u001b[38;5;241m/\u001b[39mx \u001b[38;5;241m-\u001b[39m \u001b[38;5;241m1\u001b[39m\u001b[38;5;241m/\u001b[39m(x\u001b[38;5;241m+\u001b[39m\u001b[38;5;241m1.0\u001b[39m)\n\u001b[0;32m      7\u001b[0m B \u001b[38;5;241m=\u001b[39m \u001b[38;5;28;01mlambda\u001b[39;00m x: \u001b[38;5;241m1.0\u001b[39m\u001b[38;5;241m/\u001b[39m(x(x\u001b[38;5;241m+\u001b[39m\u001b[38;5;241m1.0\u001b[39m))\n\u001b[1;32m----> 9\u001b[0m Err \u001b[38;5;241m=\u001b[39m \u001b[38;5;28;01mlambda\u001b[39;00m a: (\u001b[38;5;28mabs\u001b[39m(A(a) \u001b[38;5;241m-\u001b[39m B(a)) \u001b[38;5;241m/\u001b[39m \u001b[38;5;28mabs\u001b[39m(B(a)))\n\u001b[0;32m     11\u001b[0m Err(\u001b[38;5;241m55\u001b[39m)\n",
      "Cell \u001b[1;32mIn[74], line 7\u001b[0m, in \u001b[0;36m<lambda>\u001b[1;34m(x)\u001b[0m\n\u001b[0;32m      4\u001b[0m \u001b[38;5;28mprint\u001b[39m(array)\n\u001b[0;32m      6\u001b[0m A \u001b[38;5;241m=\u001b[39m \u001b[38;5;28;01mlambda\u001b[39;00m x: \u001b[38;5;241m1.0\u001b[39m\u001b[38;5;241m/\u001b[39mx \u001b[38;5;241m-\u001b[39m \u001b[38;5;241m1\u001b[39m\u001b[38;5;241m/\u001b[39m(x\u001b[38;5;241m+\u001b[39m\u001b[38;5;241m1.0\u001b[39m)\n\u001b[1;32m----> 7\u001b[0m B \u001b[38;5;241m=\u001b[39m \u001b[38;5;28;01mlambda\u001b[39;00m x: \u001b[38;5;241m1.0\u001b[39m\u001b[38;5;241m/\u001b[39m(x(x\u001b[38;5;241m+\u001b[39m\u001b[38;5;241m1.0\u001b[39m))\n\u001b[0;32m      9\u001b[0m Err \u001b[38;5;241m=\u001b[39m \u001b[38;5;28;01mlambda\u001b[39;00m a: (\u001b[38;5;28mabs\u001b[39m(A(a) \u001b[38;5;241m-\u001b[39m B(a)) \u001b[38;5;241m/\u001b[39m \u001b[38;5;28mabs\u001b[39m(B(a)))\n\u001b[0;32m     11\u001b[0m Err(\u001b[38;5;241m55\u001b[39m)\n",
      "\u001b[1;31mTypeError\u001b[0m: 'int' object is not callable"
     ]
    }
   ],
   "source": [
    "array = np.array([10**x for x in range(0,21)])\n",
    "#array = 10**np.arange(21)\n",
    "\n",
    "print(array)\n",
    "\n",
    "A = lambda x: 1.0/x - 1/(x+1.0)\n",
    "B = lambda x: 1.0/(x(x+1.0))\n",
    "\n",
    "Err = (abs(A(a) - B(a)) / abs(B(a)))\n",
    "\n",
    "Err(55)\n"
   ]
  },
  {
   "cell_type": "markdown",
   "id": "9f6294cc-b0df-40b8-a1f5-450f4e756ffa",
   "metadata": {},
   "source": [
    "- **8.** Scrivere uno script Matlab che fornisca le approssimazioni di $e=\\exp(1)$ ottenute con la formula\n",
    "$f(n)=(1/n+1)^n$ per $n=10^k$ e  $k=0, ..., 16$. Visualizzare: un grafico con i valori di $f(n)$ al variare di n ed un grafico con i valori dell'errore relativo (considerando come valore esatto il valore math.exp(1)).  Cosa si osserva? Commentare i risultati ottenuti."
   ]
  }
 ],
 "metadata": {
  "kernelspec": {
   "display_name": "Python 3 (ipykernel)",
   "language": "python",
   "name": "python3"
  },
  "language_info": {
   "codemirror_mode": {
    "name": "ipython",
    "version": 3
   },
   "file_extension": ".py",
   "mimetype": "text/x-python",
   "name": "python",
   "nbconvert_exporter": "python",
   "pygments_lexer": "ipython3",
   "version": "3.12.4"
  }
 },
 "nbformat": 4,
 "nbformat_minor": 5
}
